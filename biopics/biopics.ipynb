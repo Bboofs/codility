{
 "cells": [
  {
   "cell_type": "code",
   "execution_count": 1,
   "metadata": {},
   "outputs": [],
   "source": [
    "import pandas as pd\n",
    "import numpy as np"
   ]
  },
  {
   "cell_type": "code",
   "execution_count": 2,
   "metadata": {},
   "outputs": [],
   "source": [
    "def process_data():\n",
    "    # Do not alter this line.\n",
    "    biopics = pd.read_csv('./data/biopics.csv', encoding='latin-1')\n",
    "\n",
    "    # Write your code here.\n",
    "\n",
    "    # Task a: Filter out duplicated rows\n",
    "    biopics.drop_duplicates(subset=None, keep='first', inplace=True, ignore_index=False)\n",
    "\n",
    "    # Task b: rename the variable called box_office to earnings\n",
    "    biopics.rename(columns={'box_office': 'earnings'}, inplace=True)\n",
    "\n",
    "    # Task c: Filter out rows for which earnings are missing (i.e. they're NaN)\n",
    "    biopics = biopics[biopics['earnings'].notna()]\n",
    "    \n",
    "    # Task d: movies released year >= 1990\n",
    "    biopics = biopics[biopics['year_release'] >= 1990]\n",
    "\n",
    "    # Task e: type_of_subject and country conversion to categorical\n",
    "    for col in ['type_of_subject', 'country']:\n",
    "        biopics[col] = biopics[col].astype('category')\n",
    "\n",
    "    # Task f: new variable lead_actor_actress_known\n",
    "    \n",
    "    ## First replace the '-' with np.nan\n",
    "    biopics['lead_actor_actress'] = np.where((biopics['lead_actor_actress'] == '-'), np.nan, biopics['lead_actor_actress'])\n",
    "    \n",
    "    ## then create the col  and fill it with False values\n",
    "    biopics.loc[biopics['lead_actor_actress'].isna(), 'lead_actor_actress_known'] = False\n",
    "    \n",
    "    ## then fill the NaNs with True\n",
    "    biopics.loc[~biopics['lead_actor_actress'].isna(), 'lead_actor_actress_known'] = True\n",
    "    \n",
    "    # Task g: convert earnings to millions of $$$\n",
    "    biopics['earnings'] = biopics['earnings']/1000000\n",
    "\n",
    "    # Task h: reorder columns\n",
    "    cols_reordered = ['title', 'year_release', 'earnings', 'country', 'type_of_subject', 'lead_actor_actress', 'lead_actor_actress_known']\n",
    "    biopics = biopics.reindex(columns=cols_reordered)\n",
    "\n",
    "    # Task i: row sorting by earnings in descending order\n",
    "    biopics.sort_values(by=['earnings'], inplace=True, ascending=False)\n",
    "\n",
    "    # Remember to return the right object.\n",
    "    return biopics.reset_index(drop=True)\n"
   ]
  },
  {
   "cell_type": "code",
   "execution_count": 3,
   "metadata": {},
   "outputs": [],
   "source": [
    "def check_descending(df, col):\n",
    "    newlist = list(df[col])\n",
    "    largest = newlist[0]\n",
    "    for i in range(len(newlist)):\n",
    "        if newlist[i] > largest:\n",
    "            largest = newlist[i]\n",
    "            print(largest)\n",
    "            return False\n",
    "        try:\n",
    "            if newlist[i] < newlist[i+1]:\n",
    "                print(newlist[i], newlist[i+1])\n",
    "                return False\n",
    "        except IndexError:\n",
    "            return True"
   ]
  },
  {
   "cell_type": "code",
   "execution_count": 4,
   "metadata": {},
   "outputs": [],
   "source": [
    "def check_descending(df, col):\n",
    "    l = list(df[col])\n",
    "    return all(l[i] >= l[i+1] for i in range(len(l)-1))"
   ]
  },
  {
   "cell_type": "markdown",
   "metadata": {},
   "source": [
    "### Testing output"
   ]
  },
  {
   "cell_type": "code",
   "execution_count": 5,
   "metadata": {},
   "outputs": [],
   "source": [
    "def test_cases():\n",
    "    biopics = process_data()\n",
    "\n",
    "    # Task a: Filter out duplicated rows\n",
    "    try:\n",
    "        assert len(biopics[biopics.duplicated()]) == 0\n",
    "        print('Pass: duplicates removed')\n",
    "    except AssertionError:\n",
    "        print('Failed removing duplicates')\n",
    "    \n",
    "    # Task b: rename the variable called box_office to earnings\n",
    "    try:\n",
    "        assert 'earnings' in list(biopics.columns) and 'box_office' not in list(biopics.columns)\n",
    "        print('Pass: renamed \"box_office\" to \"earnings\"')\n",
    "    except AssertionError:\n",
    "        print('Failed renaming \"box_office\" to \"earnings\"')\n",
    "        \n",
    "    # Task c: Filter out rows for which earnings are missing (i.e. they're NaN)\n",
    "    try:\n",
    "        assert len(biopics[biopics['earnings'].isna()]) == 0\n",
    "        print('Pass: NaNs removed from earnings')\n",
    "    except AssertionError:\n",
    "        print('Failed removing NaNs')\n",
    "        \n",
    "    # Task d: movies released year >= 1990\n",
    "    try:\n",
    "        assert len(biopics[biopics['year_release'] < 1990]) == 0\n",
    "        print('Pass: movies released year >= 1990')\n",
    "    except AssertionError:\n",
    "        print('Failed movies released year >= 1990')\n",
    "        \n",
    "    # Task e: type_of_subject and country conversion to categorical\n",
    "    try:\n",
    "        assert biopics.dtypes['type_of_subject'] == 'category' and biopics.dtypes['country'] == 'category'\n",
    "        print('Pass: type_of_subject and country conversion to categorical')\n",
    "    except AssertionError:\n",
    "        print('Failed converting type_of_subject and country to categorical')\n",
    "        \n",
    "    # Task f: new variable lead_actor_actress_known\n",
    "    try:\n",
    "        assert 'lead_actor_actress_known' in list(biopics.columns)\n",
    "        print('Pass: lead_actor_actress_known variable created')\n",
    "    except AssertionError:\n",
    "        print('Failed creating lead_actor_actress_known')\n",
    "    \n",
    "    # Task g: convert earnings to millions of $$$\n",
    "    try:\n",
    "        assert len(biopics[biopics['earnings'] > 350]) == 0\n",
    "        print('Pass: converted earnings to millions of $$$')\n",
    "    except AssertionError:\n",
    "        print('Failed converting earnings to millions of $$$')\n",
    "        \n",
    "    # Task h: reorder columns\n",
    "    cols_reordered = ['title', 'year_release', 'earnings', 'country', 'type_of_subject', 'lead_actor_actress', 'lead_actor_actress_known']\n",
    "    try:\n",
    "        assert list(biopics.columns) == cols_reordered\n",
    "        print('Pass: columns reordered')\n",
    "    except AssertionError:\n",
    "        print('Failed reordering columns')\n",
    "    \n",
    "    # Task i: row sorting by earnings in descending order\n",
    "    try:\n",
    "        assert check_descending(biopics, 'earnings')\n",
    "        print('Pass: earnings sorted')\n",
    "    except AssertionError:\n",
    "        print('Failed sorting earnings')"
   ]
  },
  {
   "cell_type": "code",
   "execution_count": 6,
   "metadata": {},
   "outputs": [
    {
     "name": "stdout",
     "output_type": "stream",
     "text": [
      "Pass: duplicates removed\n",
      "Pass: renamed \"box_office\" to \"earnings\"\n",
      "Pass: NaNs removed from earnings\n",
      "Pass: movies released year >= 1990\n",
      "Pass: type_of_subject and country conversion to categorical\n",
      "Pass: lead_actor_actress_known variable created\n",
      "Pass: converted earnings to millions of $$$\n",
      "Pass: columns reordered\n",
      "Pass: earnings sorted\n"
     ]
    }
   ],
   "source": [
    "test_cases()"
   ]
  }
 ],
 "metadata": {
  "kernelspec": {
   "display_name": "Python 3",
   "language": "python",
   "name": "python3"
  },
  "language_info": {
   "codemirror_mode": {
    "name": "ipython",
    "version": 3
   },
   "file_extension": ".py",
   "mimetype": "text/x-python",
   "name": "python",
   "nbconvert_exporter": "python",
   "pygments_lexer": "ipython3",
   "version": "3.6.5"
  }
 },
 "nbformat": 4,
 "nbformat_minor": 4
}
